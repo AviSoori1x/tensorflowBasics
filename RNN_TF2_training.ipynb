{
  "nbformat": 4,
  "nbformat_minor": 0,
  "metadata": {
    "accelerator": "GPU",
    "colab": {
      "name": "RNNsTFBook.ipynb",
      "provenance": [],
      "collapsed_sections": [],
      "machine_shape": "hm"
    },
    "kernelspec": {
      "display_name": "Python 3",
      "name": "python3"
    },
    "language_info": {
      "name": "python"
    }
  },
  "cells": [
    {
      "cell_type": "code",
      "metadata": {
        "id": "DK0CalEa_Glu"
      },
      "source": [
        "import json \n",
        "import tensorflow as tf\n",
        "\n",
        "from tensorflow.keras.preprocessing.text import Tokenizer\n",
        "from tensorflow.keras.preprocessing.sequence import pad_sequences"
      ],
      "execution_count": null,
      "outputs": []
    },
    {
      "cell_type": "code",
      "metadata": {
        "id": "rOr2252tINwG"
      },
      "source": [
        "import tensorflow as tf\n",
        "physical_devices = tf.config.list_physical_devices('GPU')\n",
        "tf.config.experimental.set_memory_growth(physical_devices[0], enable=True)"
      ],
      "execution_count": null,
      "outputs": []
    },
    {
      "cell_type": "code",
      "metadata": {
        "colab": {
          "base_uri": "https://localhost:8080/"
        },
        "id": "YaypZ8DTDRM7",
        "outputId": "edb1a1fc-4f11-4792-960a-85547bfea31c"
      },
      "source": [
        "from google.colab import drive \n",
        "drive.mount('/content/gdrive', force_remount=True)"
      ],
      "execution_count": null,
      "outputs": [
        {
          "output_type": "stream",
          "text": [
            "Mounted at /content/gdrive\n"
          ],
          "name": "stdout"
        }
      ]
    },
    {
      "cell_type": "code",
      "metadata": {
        "id": "feO-W-hU_09t"
      },
      "source": [
        "from bs4 import BeautifulSoup\n",
        "import string \n",
        "\n",
        "stopwords = [\"a\", \"about\", \"above\", \"after\", \"again\", \"against\", \"all\", \"am\", \"an\", \"and\", \"any\", \"are\", \"as\", \"at\",\n",
        "             \"be\", \"because\", \"been\", \"before\", \"being\", \"below\", \"between\", \"both\", \"but\", \"by\", \"could\", \"did\", \"do\",\n",
        "             \"does\", \"doing\", \"down\", \"during\", \"each\", \"few\", \"for\", \"from\", \"further\", \"had\", \"has\", \"have\", \"having\",\n",
        "             \"he\", \"hed\", \"hes\", \"her\", \"here\", \"heres\", \"hers\", \"herself\", \"him\", \"himself\", \"his\", \"how\",\n",
        "             \"hows\", \"i\", \"id\", \"ill\", \"im\", \"ive\", \"if\", \"in\", \"into\", \"is\", \"it\", \"its\", \"itself\",\n",
        "             \"lets\", \"me\", \"more\", \"most\", \"my\", \"myself\", \"nor\", \"of\", \"on\", \"once\", \"only\", \"or\", \"other\", \"ought\",\n",
        "             \"our\", \"ours\", \"ourselves\", \"out\", \"over\", \"own\", \"same\", \"she\", \"shed\", \"shell\", \"shes\", \"should\",\n",
        "             \"so\", \"some\", \"such\", \"than\", \"that\", \"thats\", \"the\", \"their\", \"theirs\", \"them\", \"themselves\", \"then\",\n",
        "             \"there\", \"theres\", \"these\", \"they\", \"theyd\", \"theyll\", \"theyre\", \"theyve\", \"this\", \"those\", \"through\",\n",
        "             \"to\", \"too\", \"under\", \"until\", \"up\", \"very\", \"was\", \"we\", \"wed\", \"well\", \"were\", \"weve\", \"were\",\n",
        "             \"what\", \"whats\", \"when\", \"whens\", \"where\", \"wheres\", \"which\", \"while\", \"who\", \"whos\", \"whom\", \"why\",\n",
        "             \"whys\", \"with\", \"would\", \"you\", \"youd\", \"youll\", \"youre\", \"youve\", \"your\", \"yours\", \"yourself\",\n",
        "             \"yourselves\"]\n",
        "table = str.maketrans('', '', string.punctuation)\n"
      ],
      "execution_count": null,
      "outputs": []
    },
    {
      "cell_type": "code",
      "metadata": {
        "colab": {
          "base_uri": "https://localhost:8080/",
          "height": 86
        },
        "id": "z1Ky4-TzDmKv",
        "outputId": "265a1fd6-4662-4755-a1d6-f12ee42cc143"
      },
      "source": [
        "%cd gdrive\n",
        "%cd My Drive \n",
        "%cd TFCertification\n",
        "%pwd"
      ],
      "execution_count": null,
      "outputs": [
        {
          "output_type": "stream",
          "text": [
            "/content/gdrive\n",
            "/content/gdrive/My Drive\n",
            "/content/gdrive/My Drive/TFCertification\n"
          ],
          "name": "stdout"
        },
        {
          "output_type": "execute_result",
          "data": {
            "application/vnd.google.colaboratory.intrinsic+json": {
              "type": "string"
            },
            "text/plain": [
              "'/content/gdrive/My Drive/TFCertification'"
            ]
          },
          "metadata": {
            "tags": []
          },
          "execution_count": 5
        }
      ]
    },
    {
      "cell_type": "code",
      "metadata": {
        "colab": {
          "base_uri": "https://localhost:8080/"
        },
        "id": "amr-vsbCAW5G",
        "outputId": "14b37c50-bf13-4112-e60d-74275dc1e546"
      },
      "source": [
        "!wget --no-check-certificate \\\n",
        "    https://storage.googleapis.com/laurencemoroney-blog.appspot.com/sarcasm.json \\\n",
        "    -O /tmp/sarcasm.json"
      ],
      "execution_count": null,
      "outputs": [
        {
          "output_type": "stream",
          "text": [
            "--2021-04-09 15:08:35--  https://storage.googleapis.com/laurencemoroney-blog.appspot.com/sarcasm.json\n",
            "Resolving storage.googleapis.com (storage.googleapis.com)... 74.125.142.128, 74.125.195.128, 2607:f8b0:400e:c07::80, ...\n",
            "Connecting to storage.googleapis.com (storage.googleapis.com)|74.125.142.128|:443... connected.\n",
            "HTTP request sent, awaiting response... 200 OK\n",
            "Length: 5643545 (5.4M) [application/json]\n",
            "Saving to: ‘/tmp/sarcasm.json’\n",
            "\n",
            "\r/tmp/sarcasm.json     0%[                    ]       0  --.-KB/s               \r/tmp/sarcasm.json   100%[===================>]   5.38M  --.-KB/s    in 0.03s   \n",
            "\n",
            "2021-04-09 15:08:35 (197 MB/s) - ‘/tmp/sarcasm.json’ saved [5643545/5643545]\n",
            "\n"
          ],
          "name": "stdout"
        }
      ]
    },
    {
      "cell_type": "code",
      "metadata": {
        "colab": {
          "base_uri": "https://localhost:8080/"
        },
        "id": "FvwYgBYtDsWr",
        "outputId": "ab9fed2d-84f5-471a-febf-70ede865c436"
      },
      "source": [
        "%ls"
      ],
      "execution_count": null,
      "outputs": [
        {
          "output_type": "stream",
          "text": [
            "'Copy of Course 2 - Part 4 - Lesson 2 - Notebook (Cats v Dogs Augmentation) (1).ipynb'\n",
            "'Copy of Course 2 - Part 4 - Lesson 2 - Notebook (Cats v Dogs Augmentation).ipynb'\n",
            "'Copy of Course 3 - Week 1 - Lesson 1.ipynb'\n",
            "'Copy of Course 3 - Week 1 - Lesson 2.ipynb'\n",
            "'Copy of Course 3 - Week 1 - Lesson 3.ipynb'\n",
            "'Copy of Course 3 - Week 4 - Lesson 2 - Notebook.ipynb'\n",
            "'Copy of Exercise_1_House_Prices_Question.ipynb'\n",
            "'Copy of Exercise2-Question.ipynb'\n",
            "'Copy of Exercise 3 - Question.ipynb'\n",
            "'Copy of Exercise 4-Question (1).ipynb'\n",
            "'Copy of Exercise 4-Question.ipynb'\n",
            "'Copy of Lab3-What-Are-Convolutions.ipynb'\n",
            "'Copy of Lab4-Using-Convolutions.ipynb'\n",
            "'Copy of Lab5-Using-Convolutions-With-Complex-Images.ipynb'\n",
            " glove\n",
            " glove.twitter.27B.25d.txt\n",
            " glove.twitter.27B.25d.txt.gz\n",
            " Hello-ML-World.ipynb\n",
            " Lab2-Computer-Vision.ipynb\n",
            " Lab6-Cats-v-Dogs.ipynb\n",
            " RNNsTFBook.ipynb\n",
            " TFDS_MNIST.ipynb\n",
            " \u001b[0m\u001b[01;34mTFGuide\u001b[0m/\n"
          ],
          "name": "stdout"
        }
      ]
    },
    {
      "cell_type": "code",
      "metadata": {
        "id": "Kok0L2o0AZ1Y"
      },
      "source": [
        "import json \n",
        "from tensorflow.keras.preprocessing.text import Tokenizer \n",
        "from tensorflow.keras.preprocessing.sequence import pad_sequences\n"
      ],
      "execution_count": null,
      "outputs": []
    },
    {
      "cell_type": "code",
      "metadata": {
        "id": "OBhvUOfXd83P"
      },
      "source": [
        "from bs4 import BeautifulSoup\n",
        "import string\n",
        "\n",
        "stopwords = [\"a\", \"about\", \"above\", \"after\", \"again\", \"against\", \"all\", \"am\", \"an\", \"and\", \"any\", \"are\", \"as\", \"at\",\n",
        "             \"be\", \"because\", \"been\", \"before\", \"being\", \"below\", \"between\", \"both\", \"but\", \"by\", \"could\", \"did\", \"do\",\n",
        "             \"does\", \"doing\", \"down\", \"during\", \"each\", \"few\", \"for\", \"from\", \"further\", \"had\", \"has\", \"have\", \"having\",\n",
        "             \"he\", \"hed\", \"hes\", \"her\", \"here\", \"heres\", \"hers\", \"herself\", \"him\", \"himself\", \"his\", \"how\",\n",
        "             \"hows\", \"i\", \"id\", \"ill\", \"im\", \"ive\", \"if\", \"in\", \"into\", \"is\", \"it\", \"its\", \"itself\",\n",
        "             \"lets\", \"me\", \"more\", \"most\", \"my\", \"myself\", \"nor\", \"of\", \"on\", \"once\", \"only\", \"or\", \"other\", \"ought\",\n",
        "             \"our\", \"ours\", \"ourselves\", \"out\", \"over\", \"own\", \"same\", \"she\", \"shed\", \"shell\", \"shes\", \"should\",\n",
        "             \"so\", \"some\", \"such\", \"than\", \"that\", \"thats\", \"the\", \"their\", \"theirs\", \"them\", \"themselves\", \"then\",\n",
        "             \"there\", \"theres\", \"these\", \"they\", \"theyd\", \"theyll\", \"theyre\", \"theyve\", \"this\", \"those\", \"through\",\n",
        "             \"to\", \"too\", \"under\", \"until\", \"up\", \"very\", \"was\", \"we\", \"wed\", \"well\", \"were\", \"weve\", \"were\",\n",
        "             \"what\", \"whats\", \"when\", \"whens\", \"where\", \"wheres\", \"which\", \"while\", \"who\", \"whos\", \"whom\", \"why\",\n",
        "             \"whys\", \"with\", \"would\", \"you\", \"youd\", \"youll\", \"youre\", \"youve\", \"your\", \"yours\", \"yourself\",\n",
        "             \"yourselves\"]\n",
        "\n",
        "table = str.maketrans('', '', string.punctuation)\n"
      ],
      "execution_count": null,
      "outputs": []
    },
    {
      "cell_type": "code",
      "metadata": {
        "id": "sdVvcp3HeL-Y"
      },
      "source": [
        "import json \n",
        "from tensorflow.keras.preprocessing.text import Tokenizer\n",
        "from tensorflow.keras.preprocessing.sequence import pad_sequences\n",
        "\n",
        "sentences = []\n",
        "labels = []\n",
        "urls = []\n",
        "\n",
        "with open(\"/tmp/sarcasm.json\", 'r') as f:\n",
        "    datastore = json.load(f)\n",
        "    for item in datastore:\n",
        "        sentence = item['headline'].lower()\n",
        "        sentence = sentence.replace(\",\", \" , \")\n",
        "        sentence = sentence.replace(\".\", \" . \")\n",
        "        sentence = sentence.replace(\"-\", \" - \")\n",
        "        sentence = sentence.replace(\"/\", \" / \")\n",
        "        soup = BeautifulSoup(sentence)\n",
        "        sentence = soup.get_text()\n",
        "        words = sentence.split()\n",
        "        filtered_sentence = \"\"\n",
        "        for word in words:\n",
        "            word = word.translate(table)\n",
        "            if word not in stopwords:\n",
        "                filtered_sentence = filtered_sentence + word + \" \"\n",
        "        sentences.append(filtered_sentence)\n",
        "        labels.append(item['is_sarcastic'])\n",
        "        urls.append(item['article_link'])\n",
        "\n",
        "training_size = 23000\n",
        "\n",
        "training_sentences = sentences[0:training_size]\n",
        "testing_sentences = sentences[training_size:]\n",
        "training_labels = labels[0:training_size]\n",
        "testing_labels = labels[training_size:]"
      ],
      "execution_count": null,
      "outputs": []
    },
    {
      "cell_type": "code",
      "metadata": {
        "colab": {
          "base_uri": "https://localhost:8080/",
          "height": 286
        },
        "id": "EDM9hh3TxT1n",
        "outputId": "db5a5395-665d-4e2f-ce37-7c9545d53c19"
      },
      "source": [
        "xs = []\n",
        "ys = []\n",
        "\n",
        "current_item = 1\n",
        "for item in sentences:\n",
        "  xs.append(current_item)\n",
        "  current_item = current_item+1\n",
        "  ys.append(len(item))\n",
        "newys = sorted(ys)\n",
        "\n",
        "%matplotlib inline \n",
        "import matplotlib.pyplot as plt\n",
        "plt.plot(xs, newys)\n",
        "plt.axis([26000, 27000, 50, 250])\n",
        "plt.show()\n",
        "\n",
        "print(newys[26000])\n"
      ],
      "execution_count": null,
      "outputs": [
        {
          "output_type": "display_data",
          "data": {
            "image/png": "[encoded data removed]",
            "text/plain": [
              "<Figure size 432x288 with 1 Axes>"
            ]
          },
          "metadata": {
            "tags": [],
            "needs_background": "light"
          }
        },
        {
          "output_type": "stream",
          "text": [
            "85\n"
          ],
          "name": "stdout"
        }
      ]
    },
    {
      "cell_type": "code",
      "metadata": {
        "id": "s0fWsA_mymQQ"
      },
      "source": [
        "\n",
        "vocab_size = 13200\n",
        "embedding_dim = 25\n",
        "max_length = 50\n",
        "trunc_type='post'\n",
        "padding_type='post'\n",
        "oov_tok = \"<OOV>\"\n",
        "training_size = 23000\n",
        "\n",
        "tokenizer = Tokenizer(num_words=vocab_size, oov_token=oov_tok)\n",
        "tokenizer.fit_on_texts(training_sentences)\n",
        "\n",
        "word_index = tokenizer.word_index\n",
        "\n",
        "training_sequences = tokenizer.texts_to_sequences(training_sentences)\n",
        "testing_sequences = tokenizer.texts_to_sequences(testing_sentences)\n",
        "\n",
        "training_padded = pad_sequences(training_sequences, maxlen=max_length, padding=padding_type, truncating=trunc_type)\n",
        "testing_padded = pad_sequences(testing_sequences, maxlen=max_length, padding=padding_type, truncating=trunc_type)\n"
      ],
      "execution_count": null,
      "outputs": []
    },
    {
      "cell_type": "code",
      "metadata": {
        "id": "z_Q5_Pa2ze-p"
      },
      "source": [
        "wc = tokenizer.word_counts\n",
        "#wc"
      ],
      "execution_count": null,
      "outputs": []
    },
    {
      "cell_type": "code",
      "metadata": {
        "id": "X6sGExJ919FY"
      },
      "source": [
        "import numpy as np \n",
        "training_padded = np.asarray(training_padded)\n",
        "testing_padded = np.asarray(testing_padded)\n",
        "training_labels = np.asarray(training_labels)\n",
        "testing_labels = np.asarray(testing_labels)"
      ],
      "execution_count": null,
      "outputs": []
    },
    {
      "cell_type": "code",
      "metadata": {
        "id": "bFeKl7S5zjF9"
      },
      "source": [
        "model = tf.keras.Sequential([\n",
        "                  tf.keras.layers.Embedding(vocab_size, embedding_dim),\n",
        "                  tf.keras.layers.Bidirectional(tf.keras.layers.LSTM(embedding_dim)),\n",
        "                  tf.keras.layers.Dense(24, activation='relu'),\n",
        "                  tf.keras.layers.Dense(1, activation='sigmoid')\n",
        "])\n",
        "\n"
      ],
      "execution_count": null,
      "outputs": []
    },
    {
      "cell_type": "code",
      "metadata": {
        "colab": {
          "base_uri": "https://localhost:8080/"
        },
        "id": "aTbtPFDL3dRH",
        "outputId": "411342b9-ce07-45ec-d117-e973cbcbd5db"
      },
      "source": [
        "adam = tf.keras.optimizers.Adam(learning_rate=0.00001, beta_1=0.9, beta_2=0.999, amsgrad=False)\n",
        "model.compile(loss='binary_crossentropy', optimizer=adam, metrics = ['accuracy'])\n",
        "model.summary()"
      ],
      "execution_count": null,
      "outputs": [
        {
          "output_type": "stream",
          "text": [
            "Model: \"sequential\"\n",
            "_________________________________________________________________\n",
            "Layer (type)                 Output Shape              Param #   \n",
            "=================================================================\n",
            "embedding (Embedding)        (None, None, 64)          1280000   \n",
            "_________________________________________________________________\n",
            "bidirectional (Bidirectional (None, 128)               66048     \n",
            "_________________________________________________________________\n",
            "dense (Dense)                (None, 24)                3096      \n",
            "_________________________________________________________________\n",
            "dense_1 (Dense)              (None, 1)                 25        \n",
            "=================================================================\n",
            "Total params: 1,349,169\n",
            "Trainable params: 1,349,169\n",
            "Non-trainable params: 0\n",
            "_________________________________________________________________\n"
          ],
          "name": "stdout"
        }
      ]
    },
    {
      "cell_type": "code",
      "metadata": {
        "colab": {
          "base_uri": "https://localhost:8080/"
        },
        "id": "2vSNUl0Z3yYX",
        "outputId": "4bc3b1bb-d137-42fd-8e39-650a558c7104"
      },
      "source": [
        "num_epochs = 30\n",
        "history = model.fit(training_padded, training_labels, epochs = num_epochs, validation_data=(testing_padded, testing_labels), verbose=2)"
      ],
      "execution_count": null,
      "outputs": [
        {
          "output_type": "stream",
          "text": [
            "Epoch 1/30\n",
            "719/719 - 28s - loss: 0.6905 - accuracy: 0.5482 - val_loss: 0.6863 - val_accuracy: 0.5700\n",
            "Epoch 2/30\n",
            "719/719 - 10s - loss: 0.6849 - accuracy: 0.5596 - val_loss: 0.6809 - val_accuracy: 0.5700\n",
            "Epoch 3/30\n",
            "719/719 - 10s - loss: 0.6810 - accuracy: 0.5596 - val_loss: 0.6767 - val_accuracy: 0.5700\n",
            "Epoch 4/30\n",
            "719/719 - 10s - loss: 0.6760 - accuracy: 0.5596 - val_loss: 0.6708 - val_accuracy: 0.5700\n",
            "Epoch 5/30\n",
            "719/719 - 10s - loss: 0.6670 - accuracy: 0.5623 - val_loss: 0.6598 - val_accuracy: 0.5848\n",
            "Epoch 6/30\n",
            "719/719 - 10s - loss: 0.6496 - accuracy: 0.6246 - val_loss: 0.6370 - val_accuracy: 0.6703\n",
            "Epoch 7/30\n",
            "719/719 - 11s - loss: 0.6208 - accuracy: 0.6865 - val_loss: 0.6129 - val_accuracy: 0.6883\n",
            "Epoch 8/30\n",
            "719/719 - 10s - loss: 0.5927 - accuracy: 0.7066 - val_loss: 0.5884 - val_accuracy: 0.7061\n",
            "Epoch 9/30\n",
            "719/719 - 10s - loss: 0.5622 - accuracy: 0.7326 - val_loss: 0.5616 - val_accuracy: 0.7312\n",
            "Epoch 10/30\n",
            "719/719 - 10s - loss: 0.5267 - accuracy: 0.7573 - val_loss: 0.5341 - val_accuracy: 0.7536\n",
            "Epoch 11/30\n",
            "719/719 - 10s - loss: 0.4909 - accuracy: 0.7835 - val_loss: 0.5091 - val_accuracy: 0.7703\n",
            "Epoch 12/30\n",
            "719/719 - 10s - loss: 0.4592 - accuracy: 0.8033 - val_loss: 0.4923 - val_accuracy: 0.7733\n",
            "Epoch 13/30\n",
            "719/719 - 11s - loss: 0.4315 - accuracy: 0.8189 - val_loss: 0.4755 - val_accuracy: 0.7776\n",
            "Epoch 14/30\n",
            "719/719 - 10s - loss: 0.4068 - accuracy: 0.8318 - val_loss: 0.4632 - val_accuracy: 0.7803\n",
            "Epoch 15/30\n",
            "719/719 - 10s - loss: 0.3863 - accuracy: 0.8415 - val_loss: 0.4547 - val_accuracy: 0.7819\n",
            "Epoch 16/30\n",
            "719/719 - 10s - loss: 0.3680 - accuracy: 0.8499 - val_loss: 0.4491 - val_accuracy: 0.7910\n",
            "Epoch 17/30\n",
            "719/719 - 10s - loss: 0.3519 - accuracy: 0.8574 - val_loss: 0.4443 - val_accuracy: 0.7900\n",
            "Epoch 18/30\n",
            "719/719 - 10s - loss: 0.3368 - accuracy: 0.8627 - val_loss: 0.4435 - val_accuracy: 0.7929\n",
            "Epoch 19/30\n",
            "719/719 - 11s - loss: 0.3234 - accuracy: 0.8689 - val_loss: 0.4386 - val_accuracy: 0.7946\n",
            "Epoch 20/30\n",
            "719/719 - 10s - loss: 0.3111 - accuracy: 0.8753 - val_loss: 0.4373 - val_accuracy: 0.7956\n",
            "Epoch 21/30\n",
            "719/719 - 10s - loss: 0.2990 - accuracy: 0.8804 - val_loss: 0.4354 - val_accuracy: 0.7954\n",
            "Epoch 22/30\n",
            "719/719 - 11s - loss: 0.2880 - accuracy: 0.8858 - val_loss: 0.4348 - val_accuracy: 0.7948\n",
            "Epoch 23/30\n",
            "719/719 - 10s - loss: 0.2775 - accuracy: 0.8906 - val_loss: 0.4344 - val_accuracy: 0.7959\n",
            "Epoch 24/30\n",
            "719/719 - 10s - loss: 0.2674 - accuracy: 0.8950 - val_loss: 0.4334 - val_accuracy: 0.7975\n",
            "Epoch 25/30\n",
            "719/719 - 11s - loss: 0.2575 - accuracy: 0.8990 - val_loss: 0.4346 - val_accuracy: 0.7981\n",
            "Epoch 26/30\n",
            "719/719 - 10s - loss: 0.2483 - accuracy: 0.9030 - val_loss: 0.4352 - val_accuracy: 0.7991\n",
            "Epoch 27/30\n",
            "719/719 - 10s - loss: 0.2398 - accuracy: 0.9073 - val_loss: 0.4380 - val_accuracy: 0.8010\n",
            "Epoch 28/30\n",
            "719/719 - 10s - loss: 0.2310 - accuracy: 0.9121 - val_loss: 0.4377 - val_accuracy: 0.8018\n",
            "Epoch 29/30\n",
            "719/719 - 10s - loss: 0.2237 - accuracy: 0.9141 - val_loss: 0.4395 - val_accuracy: 0.8026\n",
            "Epoch 30/30\n",
            "719/719 - 10s - loss: 0.2157 - accuracy: 0.9177 - val_loss: 0.4452 - val_accuracy: 0.8024\n"
          ],
          "name": "stdout"
        }
      ]
    },
    {
      "cell_type": "code",
      "metadata": {
        "id": "E2rObkVD6Qfk"
      },
      "source": [
        "def plot_graphs(history, string):\n",
        "  plt.plot(history.history[string])\n",
        "  plt.plot(history.history['val_'+string])\n",
        "  plt.xlabel(\"Epochs\")\n",
        "  plt.ylabel(string)\n",
        "  plt.legend([string, 'val_'+string])\n",
        "  plt.show()"
      ],
      "execution_count": null,
      "outputs": []
    },
    {
      "cell_type": "code",
      "metadata": {
        "colab": {
          "base_uri": "https://localhost:8080/",
          "height": 541
        },
        "id": "prNXi1Cn-KBy",
        "outputId": "3b8982e8-c9f0-4c81-bf20-5e136e59a26c"
      },
      "source": [
        "plot_graphs(history, \"accuracy\")\n",
        "plot_graphs(history, \"loss\")"
      ],
      "execution_count": null,
      "outputs": [
        {
          "output_type": "display_data",
          "data": {
            "image/png": "[encoded data removed]",
            "text/plain": [
              "<Figure size 432x288 with 1 Axes>"
            ]
          },
          "metadata": {
            "tags": []
          }
        },
        {
          "output_type": "display_data",
          "data": {
            "image/png": "[encoded data removed]",
            "text/plain": [
              "<Figure size 432x288 with 1 Axes>"
            ]
          },
          "metadata": {
            "tags": []
          }
        }
      ]
    },
    {
      "cell_type": "code",
      "metadata": {
        "colab": {
          "base_uri": "https://localhost:8080/"
        },
        "id": "5RSeFS9G2Ftw",
        "outputId": "9e3f9f0f-f43b-443f-da38-6527b3fa4374"
      },
      "source": [
        "#Now trying a stacked lstm \n",
        "model = tf.keras.Sequential([\n",
        "                             tf.keras.layers.Embedding(vocab_size, embedding_dim),\n",
        "                             tf.keras.layers.Bidirectional(tf.keras.layers.LSTM(embedding_dim, return_sequences=True)),\n",
        "                             tf.keras.layers.Bidirectional(tf.keras.layers.LSTM(embedding_dim)),\n",
        "                             tf.keras.layers.Dense(24, activation = 'relu'),\n",
        "                             tf.keras.layers.Dense(1, activation='sigmoid')\n",
        "])\n",
        "model.summary()\n"
      ],
      "execution_count": null,
      "outputs": [
        {
          "output_type": "stream",
          "text": [
            "Model: \"sequential_4\"\n",
            "_________________________________________________________________\n",
            "Layer (type)                 Output Shape              Param #   \n",
            "=================================================================\n",
            "embedding_4 (Embedding)      (None, None, 64)          1280000   \n",
            "_________________________________________________________________\n",
            "bidirectional_6 (Bidirection (None, None, 128)         66048     \n",
            "_________________________________________________________________\n",
            "bidirectional_7 (Bidirection (None, 128)               98816     \n",
            "_________________________________________________________________\n",
            "dense_8 (Dense)              (None, 24)                3096      \n",
            "_________________________________________________________________\n",
            "dense_9 (Dense)              (None, 1)                 25        \n",
            "=================================================================\n",
            "Total params: 1,447,985\n",
            "Trainable params: 1,447,985\n",
            "Non-trainable params: 0\n",
            "_________________________________________________________________\n"
          ],
          "name": "stdout"
        }
      ]
    },
    {
      "cell_type": "code",
      "metadata": {
        "id": "7gORHSvY2MNa"
      },
      "source": [
        "model.compile(loss='binary_crossentropy', optimizer='adam', metrics = ['accuracy'])"
      ],
      "execution_count": null,
      "outputs": []
    },
    {
      "cell_type": "code",
      "metadata": {
        "colab": {
          "base_uri": "https://localhost:8080/"
        },
        "id": "09g7cVTc2Ozm",
        "outputId": "b7c20e40-1ff5-468c-bfa0-41a04c201e36"
      },
      "source": [
        "num_epochs = 30\n",
        "history = model.fit(training_padded, training_labels, epochs = num_epochs, validation_data=(testing_padded, testing_labels), verbose=2)"
      ],
      "execution_count": null,
      "outputs": [
        {
          "output_type": "stream",
          "text": [
            "Epoch 1/30\n",
            "719/719 - 21s - loss: 0.4766 - accuracy: 0.7647 - val_loss: 0.4130 - val_accuracy: 0.8056\n",
            "Epoch 2/30\n",
            "719/719 - 16s - loss: 0.2489 - accuracy: 0.8993 - val_loss: 0.4121 - val_accuracy: 0.8115\n",
            "Epoch 3/30\n",
            "719/719 - 16s - loss: 0.1292 - accuracy: 0.9536 - val_loss: 0.5342 - val_accuracy: 0.8013\n",
            "Epoch 4/30\n",
            "719/719 - 16s - loss: 0.0709 - accuracy: 0.9751 - val_loss: 0.7221 - val_accuracy: 0.7919\n",
            "Epoch 5/30\n",
            "719/719 - 16s - loss: 0.0385 - accuracy: 0.9863 - val_loss: 0.8629 - val_accuracy: 0.7935\n",
            "Epoch 6/30\n",
            "719/719 - 16s - loss: 0.0238 - accuracy: 0.9918 - val_loss: 0.9236 - val_accuracy: 0.7972\n",
            "Epoch 7/30\n",
            "719/719 - 16s - loss: 0.0158 - accuracy: 0.9947 - val_loss: 1.1423 - val_accuracy: 0.7848\n",
            "Epoch 8/30\n",
            "719/719 - 16s - loss: 0.0117 - accuracy: 0.9962 - val_loss: 1.2232 - val_accuracy: 0.7921\n",
            "Epoch 9/30\n",
            "719/719 - 16s - loss: 0.0072 - accuracy: 0.9973 - val_loss: 1.3801 - val_accuracy: 0.7873\n",
            "Epoch 10/30\n",
            "719/719 - 16s - loss: 0.0048 - accuracy: 0.9987 - val_loss: 1.4692 - val_accuracy: 0.7784\n",
            "Epoch 11/30\n",
            "719/719 - 16s - loss: 0.0092 - accuracy: 0.9968 - val_loss: 1.2936 - val_accuracy: 0.7822\n",
            "Epoch 12/30\n",
            "719/719 - 16s - loss: 0.0064 - accuracy: 0.9976 - val_loss: 1.4407 - val_accuracy: 0.7830\n",
            "Epoch 13/30\n",
            "719/719 - 16s - loss: 0.0045 - accuracy: 0.9984 - val_loss: 1.4970 - val_accuracy: 0.7781\n",
            "Epoch 14/30\n",
            "719/719 - 16s - loss: 0.0038 - accuracy: 0.9989 - val_loss: 1.5632 - val_accuracy: 0.7846\n",
            "Epoch 15/30\n",
            "719/719 - 16s - loss: 0.0022 - accuracy: 0.9993 - val_loss: 1.8918 - val_accuracy: 0.7762\n",
            "Epoch 16/30\n",
            "719/719 - 16s - loss: 0.0028 - accuracy: 0.9991 - val_loss: 1.6173 - val_accuracy: 0.7808\n",
            "Epoch 17/30\n",
            "719/719 - 16s - loss: 0.0011 - accuracy: 0.9996 - val_loss: 1.9626 - val_accuracy: 0.7808\n",
            "Epoch 18/30\n",
            "719/719 - 16s - loss: 0.0046 - accuracy: 0.9986 - val_loss: 1.5200 - val_accuracy: 0.7792\n",
            "Epoch 19/30\n",
            "719/719 - 16s - loss: 0.0047 - accuracy: 0.9985 - val_loss: 1.4950 - val_accuracy: 0.7881\n",
            "Epoch 20/30\n",
            "719/719 - 16s - loss: 0.0024 - accuracy: 0.9994 - val_loss: 1.6894 - val_accuracy: 0.7859\n",
            "Epoch 21/30\n",
            "719/719 - 16s - loss: 8.3787e-04 - accuracy: 0.9999 - val_loss: 1.8281 - val_accuracy: 0.7859\n",
            "Epoch 22/30\n",
            "719/719 - 16s - loss: 2.2658e-04 - accuracy: 1.0000 - val_loss: 2.0097 - val_accuracy: 0.7846\n",
            "Epoch 23/30\n",
            "719/719 - 16s - loss: 2.0038e-04 - accuracy: 1.0000 - val_loss: 2.0373 - val_accuracy: 0.7822\n",
            "Epoch 24/30\n",
            "719/719 - 16s - loss: 4.2773e-04 - accuracy: 0.9998 - val_loss: 2.1877 - val_accuracy: 0.7813\n",
            "Epoch 25/30\n",
            "719/719 - 16s - loss: 2.8935e-04 - accuracy: 0.9999 - val_loss: 2.3339 - val_accuracy: 0.7854\n",
            "Epoch 26/30\n",
            "719/719 - 16s - loss: 2.3012e-04 - accuracy: 0.9999 - val_loss: 2.3613 - val_accuracy: 0.7859\n",
            "Epoch 27/30\n",
            "719/719 - 16s - loss: 1.3892e-04 - accuracy: 1.0000 - val_loss: 2.6408 - val_accuracy: 0.7819\n",
            "Epoch 28/30\n",
            "719/719 - 16s - loss: 0.0032 - accuracy: 0.9990 - val_loss: 1.5939 - val_accuracy: 0.7760\n",
            "Epoch 29/30\n",
            "719/719 - 16s - loss: 0.0074 - accuracy: 0.9978 - val_loss: 1.3118 - val_accuracy: 0.7816\n",
            "Epoch 30/30\n",
            "719/719 - 16s - loss: 0.0042 - accuracy: 0.9987 - val_loss: 1.4070 - val_accuracy: 0.7851\n"
          ],
          "name": "stdout"
        }
      ]
    },
    {
      "cell_type": "code",
      "metadata": {
        "colab": {
          "base_uri": "https://localhost:8080/",
          "height": 541
        },
        "id": "-rKIR1Fn2RuZ",
        "outputId": "b59a099c-db06-4f14-8902-eeb414751aaf"
      },
      "source": [
        "plot_graphs(history, \"accuracy\")\n",
        "plot_graphs(history, \"loss\")"
      ],
      "execution_count": null,
      "outputs": [
        {
          "output_type": "display_data",
          "data": {
            "image/png": "[encoded data removed]",
            "text/plain": [
              "<Figure size 432x288 with 1 Axes>"
            ]
          },
          "metadata": {
            "tags": []
          }
        },
        {
          "output_type": "display_data",
          "data": {
            "image/png": "[encoded data removed]",
            "text/plain": [
              "<Figure size 432x288 with 1 Axes>"
            ]
          },
          "metadata": {
            "tags": []
          }
        }
      ]
    },
    {
      "cell_type": "code",
      "metadata": {
        "id": "zIEUz83TEQ2h"
      },
      "source": [
        "#Now trying a stacked lstm \n",
        "model = tf.keras.Sequential([\n",
        "                             tf.keras.layers.Embedding(vocab_size, embedding_dim),\n",
        "                             tf.keras.layers.Bidirectional(tf.keras.layers.LSTM(embedding_dim, return_sequences=True)),\n",
        "                             tf.keras.layers.Bidirectional(tf.keras.layers.LSTM(embedding_dim)),\n",
        "                             tf.keras.layers.Dense(24, activation = 'relu'),\n",
        "                             tf.keras.layers.Dense(1, activation='sigmoid')\n",
        "])"
      ],
      "execution_count": null,
      "outputs": []
    },
    {
      "cell_type": "code",
      "metadata": {
        "colab": {
          "base_uri": "https://localhost:8080/"
        },
        "id": "_BPrNRyHw03s",
        "outputId": "3f0e9832-0397-4f5e-9940-b9d7c5eff1e2"
      },
      "source": [
        "model.summary()"
      ],
      "execution_count": null,
      "outputs": [
        {
          "output_type": "stream",
          "text": [
            "Model: \"sequential_3\"\n",
            "_________________________________________________________________\n",
            "Layer (type)                 Output Shape              Param #   \n",
            "=================================================================\n",
            "embedding_3 (Embedding)      (None, None, 64)          1280000   \n",
            "_________________________________________________________________\n",
            "bidirectional_4 (Bidirection (None, None, 128)         66048     \n",
            "_________________________________________________________________\n",
            "bidirectional_5 (Bidirection (None, 128)               98816     \n",
            "_________________________________________________________________\n",
            "dense_6 (Dense)              (None, 24)                3096      \n",
            "_________________________________________________________________\n",
            "dense_7 (Dense)              (None, 1)                 25        \n",
            "=================================================================\n",
            "Total params: 1,447,985\n",
            "Trainable params: 1,447,985\n",
            "Non-trainable params: 0\n",
            "_________________________________________________________________\n"
          ],
          "name": "stdout"
        }
      ]
    },
    {
      "cell_type": "code",
      "metadata": {
        "id": "QbBi_uyRxSOc"
      },
      "source": [
        "adam = tf.keras.optimizers.Adam(learning_rate=0.000008, beta_1=0.9, beta_2=0.999, amsgrad=False)\n",
        "model.compile(loss='binary_crossentropy', optimizer=adam, metrics = ['accuracy'])"
      ],
      "execution_count": null,
      "outputs": []
    },
    {
      "cell_type": "code",
      "metadata": {
        "colab": {
          "background_save": true,
          "base_uri": "https://localhost:8080/"
        },
        "id": "mx7COdgAypCe",
        "outputId": "b1ce3d4a-d35f-40a3-e444-937ad31db35a"
      },
      "source": [
        "num_epochs = 30\n",
        "history = model.fit(training_padded, training_labels, epochs = num_epochs, validation_data=(testing_padded, testing_labels), verbose=2)"
      ],
      "execution_count": null,
      "outputs": [
        {
          "output_type": "stream",
          "text": [
            "Epoch 1/30\n",
            "719/719 - 112s - loss: 0.6884 - accuracy: 0.5585 - val_loss: 0.6829 - val_accuracy: 0.5700\n",
            "Epoch 2/30\n",
            "719/719 - 109s - loss: 0.6834 - accuracy: 0.5596 - val_loss: 0.6797 - val_accuracy: 0.5700\n",
            "Epoch 3/30\n",
            "719/719 - 113s - loss: 0.6809 - accuracy: 0.5596 - val_loss: 0.6765 - val_accuracy: 0.5700\n",
            "Epoch 4/30\n",
            "719/719 - 113s - loss: 0.6754 - accuracy: 0.5597 - val_loss: 0.6687 - val_accuracy: 0.5716\n",
            "Epoch 5/30\n",
            "719/719 - 112s - loss: 0.6551 - accuracy: 0.6107 - val_loss: 0.6285 - val_accuracy: 0.6592\n",
            "Epoch 6/30\n",
            "719/719 - 115s - loss: 0.5869 - accuracy: 0.7046 - val_loss: 0.5645 - val_accuracy: 0.7094\n",
            "Epoch 7/30\n",
            "719/719 - 115s - loss: 0.4952 - accuracy: 0.7675 - val_loss: 0.5124 - val_accuracy: 0.7487\n",
            "Epoch 8/30\n",
            "719/719 - 113s - loss: 0.4350 - accuracy: 0.8039 - val_loss: 0.5007 - val_accuracy: 0.7520\n",
            "Epoch 9/30\n",
            "719/719 - 116s - loss: 0.3996 - accuracy: 0.8240 - val_loss: 0.4894 - val_accuracy: 0.7660\n",
            "Epoch 10/30\n",
            "719/719 - 116s - loss: 0.3743 - accuracy: 0.8392 - val_loss: 0.4832 - val_accuracy: 0.7724\n",
            "Epoch 11/30\n",
            "719/719 - 114s - loss: 0.3512 - accuracy: 0.8511 - val_loss: 0.4774 - val_accuracy: 0.7773\n",
            "Epoch 12/30\n",
            "719/719 - 112s - loss: 0.3313 - accuracy: 0.8611 - val_loss: 0.4775 - val_accuracy: 0.7784\n",
            "Epoch 13/30\n",
            "719/719 - 113s - loss: 0.3135 - accuracy: 0.8719 - val_loss: 0.4789 - val_accuracy: 0.7778\n",
            "Epoch 14/30\n",
            "719/719 - 114s - loss: 0.2962 - accuracy: 0.8813 - val_loss: 0.4777 - val_accuracy: 0.7846\n",
            "Epoch 15/30\n",
            "719/719 - 112s - loss: 0.2805 - accuracy: 0.8887 - val_loss: 0.4824 - val_accuracy: 0.7870\n",
            "Epoch 16/30\n",
            "719/719 - 112s - loss: 0.2659 - accuracy: 0.8956 - val_loss: 0.4873 - val_accuracy: 0.7854\n",
            "Epoch 17/30\n",
            "719/719 - 111s - loss: 0.2521 - accuracy: 0.9035 - val_loss: 0.4929 - val_accuracy: 0.7870\n",
            "Epoch 18/30\n",
            "719/719 - 112s - loss: 0.2386 - accuracy: 0.9097 - val_loss: 0.4989 - val_accuracy: 0.7886\n",
            "Epoch 19/30\n",
            "719/719 - 112s - loss: 0.2265 - accuracy: 0.9147 - val_loss: 0.5092 - val_accuracy: 0.7867\n",
            "Epoch 20/30\n",
            "719/719 - 112s - loss: 0.2145 - accuracy: 0.9210 - val_loss: 0.5186 - val_accuracy: 0.7878\n",
            "Epoch 21/30\n",
            "719/719 - 113s - loss: 0.2038 - accuracy: 0.9266 - val_loss: 0.5295 - val_accuracy: 0.7886\n",
            "Epoch 22/30\n",
            "719/719 - 112s - loss: 0.1928 - accuracy: 0.9314 - val_loss: 0.5378 - val_accuracy: 0.7889\n",
            "Epoch 23/30\n",
            "719/719 - 112s - loss: 0.1830 - accuracy: 0.9354 - val_loss: 0.5483 - val_accuracy: 0.7902\n",
            "Epoch 24/30\n",
            "719/719 - 112s - loss: 0.1736 - accuracy: 0.9402 - val_loss: 0.5564 - val_accuracy: 0.7892\n",
            "Epoch 25/30\n",
            "719/719 - 112s - loss: 0.1648 - accuracy: 0.9444 - val_loss: 0.5722 - val_accuracy: 0.7932\n",
            "Epoch 26/30\n",
            "719/719 - 111s - loss: 0.1557 - accuracy: 0.9480 - val_loss: 0.5834 - val_accuracy: 0.7932\n",
            "Epoch 27/30\n",
            "719/719 - 112s - loss: 0.1471 - accuracy: 0.9520 - val_loss: 0.5987 - val_accuracy: 0.7940\n",
            "Epoch 28/30\n",
            "719/719 - 111s - loss: 0.1398 - accuracy: 0.9554 - val_loss: 0.6129 - val_accuracy: 0.7924\n",
            "Epoch 29/30\n",
            "719/719 - 112s - loss: 0.1325 - accuracy: 0.9586 - val_loss: 0.6325 - val_accuracy: 0.7927\n",
            "Epoch 30/30\n",
            "719/719 - 111s - loss: 0.1248 - accuracy: 0.9623 - val_loss: 0.6479 - val_accuracy: 0.7870\n"
          ],
          "name": "stdout"
        }
      ]
    },
    {
      "cell_type": "code",
      "metadata": {
        "colab": {
          "base_uri": "https://localhost:8080/",
          "height": 541
        },
        "id": "0n-XN8x1yusq",
        "outputId": "d6aeeb11-c39e-4d94-d46b-84ce8c59420f"
      },
      "source": [
        "plot_graphs(history, \"accuracy\")\n",
        "plot_graphs(history, \"loss\")"
      ],
      "execution_count": null,
      "outputs": [
        {
          "output_type": "display_data",
          "data": {
            "image/png": "[encoded data removed]",
            "text/plain": [
              "<Figure size 432x288 with 1 Axes>"
            ]
          },
          "metadata": {
            "tags": []
          }
        },
        {
          "output_type": "display_data",
          "data": {
            "image/png": "[encoded data removed]",
            "text/plain": [
              "<Figure size 432x288 with 1 Axes>"
            ]
          },
          "metadata": {
            "tags": []
          }
        }
      ]
    },
    {
      "cell_type": "code",
      "metadata": {
        "id": "646O6QTb1-6n"
      },
      "source": [
        "#Now trying a stacked lstm with dropout: note it's added as a parameter as opposed to another statement \n",
        "model = tf.keras.Sequential([\n",
        "                             tf.keras.layers.Embedding(vocab_size, embedding_dim),\n",
        "                             tf.keras.layers.Bidirectional(tf.keras.layers.LSTM(embedding_dim, return_sequences=True, dropout=0.2)),\n",
        "                             tf.keras.layers.Bidirectional(tf.keras.layers.LSTM(embedding_dim, dropout=0.2)),\n",
        "                             tf.keras.layers.Dense(24, activation = 'relu'),\n",
        "                             tf.keras.layers.Dense(1, activation='sigmoid')\n",
        "])\n",
        "adam = tf.keras.optimizers.Adam(learning_rate=0.000008, beta_1=0.9, beta_2=0.999, amsgrad=False)\n",
        "model.compile(loss='binary_crossentropy', optimizer=adam, metrics = ['accuracy'])\n"
      ],
      "execution_count": null,
      "outputs": []
    },
    {
      "cell_type": "code",
      "metadata": {
        "colab": {
          "base_uri": "https://localhost:8080/"
        },
        "id": "3aIRWDYJ4TOK",
        "outputId": "a6fab7a6-b02c-4129-d755-88cb70fd0577"
      },
      "source": [
        "num_epochs = 30\n",
        "history = model.fit(training_padded, training_labels, epochs = num_epochs, validation_data=(testing_padded, testing_labels), verbose=2)"
      ],
      "execution_count": null,
      "outputs": [
        {
          "output_type": "stream",
          "text": [
            "Epoch 1/30\n",
            "719/719 - 22s - loss: 0.6903 - accuracy: 0.5451 - val_loss: 0.6852 - val_accuracy: 0.5700\n",
            "Epoch 2/30\n",
            "719/719 - 16s - loss: 0.6844 - accuracy: 0.5596 - val_loss: 0.6806 - val_accuracy: 0.5700\n",
            "Epoch 3/30\n",
            "719/719 - 16s - loss: 0.6824 - accuracy: 0.5596 - val_loss: 0.6789 - val_accuracy: 0.5700\n",
            "Epoch 4/30\n",
            "719/719 - 16s - loss: 0.6799 - accuracy: 0.5596 - val_loss: 0.6757 - val_accuracy: 0.5700\n",
            "Epoch 5/30\n",
            "719/719 - 16s - loss: 0.6744 - accuracy: 0.5620 - val_loss: 0.6677 - val_accuracy: 0.5824\n",
            "Epoch 6/30\n",
            "719/719 - 16s - loss: 0.6602 - accuracy: 0.6129 - val_loss: 0.6474 - val_accuracy: 0.6495\n",
            "Epoch 7/30\n",
            "719/719 - 16s - loss: 0.6287 - accuracy: 0.6780 - val_loss: 0.6099 - val_accuracy: 0.6905\n",
            "Epoch 8/30\n",
            "719/719 - 16s - loss: 0.5671 - accuracy: 0.7298 - val_loss: 0.5372 - val_accuracy: 0.7458\n",
            "Epoch 9/30\n",
            "719/719 - 16s - loss: 0.4933 - accuracy: 0.7718 - val_loss: 0.5018 - val_accuracy: 0.7633\n",
            "Epoch 10/30\n",
            "719/719 - 16s - loss: 0.4545 - accuracy: 0.7942 - val_loss: 0.4834 - val_accuracy: 0.7733\n",
            "Epoch 11/30\n",
            "719/719 - 17s - loss: 0.4231 - accuracy: 0.8147 - val_loss: 0.4711 - val_accuracy: 0.7800\n",
            "Epoch 12/30\n",
            "719/719 - 16s - loss: 0.3984 - accuracy: 0.8250 - val_loss: 0.4641 - val_accuracy: 0.7838\n",
            "Epoch 13/30\n",
            "719/719 - 17s - loss: 0.3800 - accuracy: 0.8360 - val_loss: 0.4613 - val_accuracy: 0.7816\n",
            "Epoch 14/30\n",
            "719/719 - 16s - loss: 0.3629 - accuracy: 0.8454 - val_loss: 0.4532 - val_accuracy: 0.7886\n",
            "Epoch 15/30\n",
            "719/719 - 16s - loss: 0.3502 - accuracy: 0.8494 - val_loss: 0.4497 - val_accuracy: 0.7894\n",
            "Epoch 16/30\n",
            "719/719 - 16s - loss: 0.3380 - accuracy: 0.8571 - val_loss: 0.4468 - val_accuracy: 0.7937\n",
            "Epoch 17/30\n",
            "719/719 - 16s - loss: 0.3261 - accuracy: 0.8630 - val_loss: 0.4540 - val_accuracy: 0.7940\n",
            "Epoch 18/30\n",
            "719/719 - 16s - loss: 0.3166 - accuracy: 0.8669 - val_loss: 0.4450 - val_accuracy: 0.7970\n",
            "Epoch 19/30\n",
            "719/719 - 17s - loss: 0.3054 - accuracy: 0.8754 - val_loss: 0.4437 - val_accuracy: 0.7975\n",
            "Epoch 20/30\n",
            "719/719 - 16s - loss: 0.2968 - accuracy: 0.8801 - val_loss: 0.4484 - val_accuracy: 0.7991\n",
            "Epoch 21/30\n",
            "719/719 - 17s - loss: 0.2862 - accuracy: 0.8842 - val_loss: 0.4534 - val_accuracy: 0.7989\n",
            "Epoch 22/30\n",
            "719/719 - 17s - loss: 0.2797 - accuracy: 0.8858 - val_loss: 0.4473 - val_accuracy: 0.7972\n",
            "Epoch 23/30\n",
            "719/719 - 16s - loss: 0.2712 - accuracy: 0.8913 - val_loss: 0.4499 - val_accuracy: 0.7989\n",
            "Epoch 24/30\n",
            "719/719 - 16s - loss: 0.2650 - accuracy: 0.8928 - val_loss: 0.4465 - val_accuracy: 0.8008\n",
            "Epoch 25/30\n",
            "719/719 - 17s - loss: 0.2583 - accuracy: 0.8960 - val_loss: 0.4538 - val_accuracy: 0.8024\n",
            "Epoch 26/30\n",
            "719/719 - 17s - loss: 0.2500 - accuracy: 0.9007 - val_loss: 0.4512 - val_accuracy: 0.8002\n",
            "Epoch 27/30\n",
            "719/719 - 17s - loss: 0.2455 - accuracy: 0.9015 - val_loss: 0.4516 - val_accuracy: 0.8018\n",
            "Epoch 28/30\n",
            "719/719 - 17s - loss: 0.2368 - accuracy: 0.9085 - val_loss: 0.4630 - val_accuracy: 0.8026\n",
            "Epoch 29/30\n",
            "719/719 - 17s - loss: 0.2295 - accuracy: 0.9105 - val_loss: 0.4614 - val_accuracy: 0.8029\n",
            "Epoch 30/30\n",
            "719/719 - 17s - loss: 0.2251 - accuracy: 0.9115 - val_loss: 0.4622 - val_accuracy: 0.8032\n"
          ],
          "name": "stdout"
        }
      ]
    },
    {
      "cell_type": "code",
      "metadata": {
        "colab": {
          "base_uri": "https://localhost:8080/",
          "height": 541
        },
        "id": "C7HpwZN-70es",
        "outputId": "e780f491-2449-4cbb-817d-c75e8ba927ef"
      },
      "source": [
        "plot_graphs(history, \"accuracy\")\n",
        "plot_graphs(history, \"loss\")"
      ],
      "execution_count": null,
      "outputs": [
        {
          "output_type": "display_data",
          "data": {
            "image/png": "[encoded data removed]",
            "text/plain": [
              "<Figure size 432x288 with 1 Axes>"
            ]
          },
          "metadata": {
            "tags": []
          }
        },
        {
          "output_type": "display_data",
          "data": {
            "image/png": "[encoded data removed]",
            "text/plain": [
              "<Figure size 432x288 with 1 Axes>"
            ]
          },
          "metadata": {
            "tags": []
          }
        }
      ]
    },
    {
      "cell_type": "code",
      "metadata": {
        "id": "yrc0q7a7GYAO"
      },
      "source": [
        "glove_embeddings = dict()\n",
        "f = open('glove.twitter.27B.25d.txt')\n",
        "for line in f:\n",
        "  values = line.split()\n",
        "  word = values[0]\n",
        "  coefs = np.asarray(values[1:], dtype='float32')\n",
        "  glove_embeddings[word] = coefs \n",
        "f.close()"
      ],
      "execution_count": null,
      "outputs": []
    },
    {
      "cell_type": "code",
      "metadata": {
        "id": "pflEQIU_J-cj"
      },
      "source": [
        "embedding_dim = 25"
      ],
      "execution_count": null,
      "outputs": []
    },
    {
      "cell_type": "code",
      "metadata": {
        "colab": {
          "base_uri": "https://localhost:8080/"
        },
        "id": "r3SmzFWWG0_9",
        "outputId": "1d7e8da3-51b1-439d-e7e2-761326798ee4"
      },
      "source": [
        "glove_embeddings['frog']"
      ],
      "execution_count": null,
      "outputs": [
        {
          "output_type": "execute_result",
          "data": {
            "text/plain": [
              "array([-1.2158  , -0.74924 ,  0.91941 ,  0.72985 , -0.12917 , -0.19555 ,\n",
              "        1.2365  , -0.77196 ,  0.85161 ,  0.11922 ,  0.16816 ,  0.33334 ,\n",
              "       -2.0845  , -0.53471 ,  0.013538,  0.18178 ,  1.2831  ,  0.089331,\n",
              "        0.57264 ,  0.50694 ,  0.27134 ,  0.66504 ,  0.54097 , -0.58377 ,\n",
              "        0.67097 ], dtype=float32)"
            ]
          },
          "metadata": {
            "tags": []
          },
          "execution_count": 18
        }
      ]
    },
    {
      "cell_type": "code",
      "metadata": {
        "id": "uYm4csqqG-z6"
      },
      "source": [
        "# Create the embedding matrix \n",
        "embedding_matrix = np.zeros((vocab_size, embedding_dim))\n",
        "\n",
        "for word, index in tokenizer.word_index.items():\n",
        "  if index > vocab_size - 1:\n",
        "    break \n",
        "  else:\n",
        "    embedding_vector = glove_embeddings.get(word)\n",
        "    if embedding_vector is not None:\n",
        "      embedding_matrix[index] = embedding_vector \n",
        "      \n"
      ],
      "execution_count": null,
      "outputs": []
    },
    {
      "cell_type": "code",
      "metadata": {
        "id": "wgvyXg0-J56V"
      },
      "source": [
        "model = tf.keras.Sequential([\n",
        "                             tf.keras.layers.Embedding(vocab_size, embedding_dim, weights = [embedding_matrix], trainable=False),\n",
        "                             tf.keras.layers.Bidirectional(tf.keras.layers.LSTM(embedding_dim, return_sequences=True)),\n",
        "                             tf.keras.layers.Bidirectional(tf.keras.layers.LSTM(embedding_dim)),\n",
        "                             tf.keras.layers.Dense(24, activation = 'relu'),\n",
        "                             tf.keras.layers.Dense(1, activation='sigmoid')\n",
        "])"
      ],
      "execution_count": null,
      "outputs": []
    },
    {
      "cell_type": "code",
      "metadata": {
        "id": "wzh70QdVKvAV"
      },
      "source": [
        "xs = []\n",
        "ys = []\n",
        "cumulative_x = []\n",
        "cumulative_y = []\n",
        "total_y = 0\n",
        "for word, index in tokenizer.word_index.items():\n",
        "  xs.append(index)\n",
        "  cumulative_x.append(index)\n",
        "  if glove_embeddings.get(word) is not None:\n",
        "    total_y = total_y + 1\n",
        "    ys.append(1)\n",
        "  else:\n",
        "    ys.append(0)\n",
        "  cumulative_y.append(total_y/ index)"
      ],
      "execution_count": null,
      "outputs": []
    },
    {
      "cell_type": "code",
      "metadata": {
        "colab": {
          "base_uri": "https://localhost:8080/",
          "height": 174
        },
        "id": "NsPNrGshMr4O",
        "outputId": "2d99faff-3787-4553-cb61-f8624590c14b"
      },
      "source": [
        "%matplotlib inline \n",
        "\n",
        "import matplotlib.pyplot as plt\n",
        "\n",
        "fig, ax = plt.subplots(figsize=(12,2))\n",
        "ax.spines['top'].set_visible(False)\n",
        "\n",
        "plt.margins(x=0, y=None, tight=True)\n",
        "plt.fill(ys)"
      ],
      "execution_count": null,
      "outputs": [
        {
          "output_type": "execute_result",
          "data": {
            "text/plain": [
              "[<matplotlib.patches.Polygon at 0x7fdb607c3290>]"
            ]
          },
          "metadata": {
            "tags": []
          },
          "execution_count": 25
        },
        {
          "output_type": "display_data",
          "data": {
            "image/png": "[encoded data removed]",
            "text/plain": [
              "<Figure size 864x144 with 1 Axes>"
            ]
          },
          "metadata": {
            "tags": [],
            "needs_background": "light"
          }
        }
      ]
    },
    {
      "cell_type": "code",
      "metadata": {
        "colab": {
          "base_uri": "https://localhost:8080/",
          "height": 282
        },
        "id": "rRrRHLMENCP9",
        "outputId": "236d3200-c3c5-4cdd-865a-8c4df5681503"
      },
      "source": [
        "plt.plot(cumulative_x, cumulative_y)\n",
        "plt.axis([0,25000, 0.915, 0.985])"
      ],
      "execution_count": null,
      "outputs": [
        {
          "output_type": "execute_result",
          "data": {
            "text/plain": [
              "(0.0, 25000.0, 0.915, 0.985)"
            ]
          },
          "metadata": {
            "tags": []
          },
          "execution_count": 26
        },
        {
          "output_type": "display_data",
          "data": {
            "image/png": "[encoded data removed]",
            "text/plain": [
              "<Figure size 432x288 with 1 Axes>"
            ]
          },
          "metadata": {
            "tags": [],
            "needs_background": "light"
          }
        }
      ]
    },
    {
      "cell_type": "code",
      "metadata": {
        "id": "LCTyasGEGr7g"
      },
      "source": [
        "\n",
        "vocab_size = 13200\n",
        "embedding_dim = 25\n",
        "max_length = 50\n",
        "trunc_type='post'\n",
        "padding_type='post'\n",
        "oov_tok = \"<OOV>\"\n",
        "training_size = 23000"
      ],
      "execution_count": null,
      "outputs": []
    },
    {
      "cell_type": "code",
      "metadata": {
        "id": "GU_tj1F7NRJU"
      },
      "source": [
        "vocab_size=13200\n",
        "# Create the embedding matrix \n",
        "embedding_matrix = np.zeros((vocab_size, embedding_dim))\n",
        "\n",
        "for word, index in tokenizer.word_index.items():\n",
        "  if index > vocab_size - 1:\n",
        "    break \n",
        "  else:\n",
        "    embedding_vector = glove_embeddings.get(word)\n",
        "    if embedding_vector is not None:\n",
        "      embedding_matrix[index] = embedding_vector \n",
        "      \n",
        "\n",
        "\n",
        "model = tf.keras.Sequential([\n",
        "                             tf.keras.layers.Embedding(vocab_size, embedding_dim, weights = [embedding_matrix], trainable=False),\n",
        "                             tf.keras.layers.Bidirectional(tf.keras.layers.LSTM(embedding_dim, return_sequences=True)),\n",
        "                             tf.keras.layers.Bidirectional(tf.keras.layers.LSTM(embedding_dim)),\n",
        "                             tf.keras.layers.Dense(24, activation = 'relu'),\n",
        "                             tf.keras.layers.Dense(1, activation='sigmoid')\n",
        "])\n",
        "\n",
        "adam = tf.keras.optimizers.Adam(learning_rate=0.00001, beta_1=0.9, beta_2=0.999, amsgrad=False)\n",
        "model.compile(loss='binary_crossentropy', optimizer=adam, metrics=['accuracy'])"
      ],
      "execution_count": null,
      "outputs": []
    },
    {
      "cell_type": "code",
      "metadata": {
        "colab": {
          "base_uri": "https://localhost:8080/"
        },
        "id": "Cm1YcaGVNwo_",
        "outputId": "970e767f-b00e-42d3-d59e-0db2de089149"
      },
      "source": [
        "\n",
        "num_epochs = 30\n",
        "history = model.fit(training_padded, training_labels, epochs=num_epochs, validation_data=(testing_padded, testing_labels), verbose=2)"
      ],
      "execution_count": null,
      "outputs": [
        {
          "output_type": "stream",
          "text": [
            "Epoch 1/30\n",
            "719/719 - 28s - loss: 0.6921 - accuracy: 0.5236 - val_loss: 0.6866 - val_accuracy: 0.5872\n",
            "Epoch 2/30\n",
            "719/719 - 7s - loss: 0.6809 - accuracy: 0.5806 - val_loss: 0.6753 - val_accuracy: 0.5840\n",
            "Epoch 3/30\n",
            "719/719 - 7s - loss: 0.6679 - accuracy: 0.5999 - val_loss: 0.6604 - val_accuracy: 0.6355\n",
            "Epoch 4/30\n",
            "719/719 - 7s - loss: 0.6465 - accuracy: 0.6518 - val_loss: 0.6379 - val_accuracy: 0.6522\n",
            "Epoch 5/30\n",
            "719/719 - 7s - loss: 0.6253 - accuracy: 0.6653 - val_loss: 0.6256 - val_accuracy: 0.6552\n",
            "Epoch 6/30\n",
            "719/719 - 7s - loss: 0.6156 - accuracy: 0.6706 - val_loss: 0.6187 - val_accuracy: 0.6611\n",
            "Epoch 7/30\n",
            "719/719 - 7s - loss: 0.6097 - accuracy: 0.6751 - val_loss: 0.6135 - val_accuracy: 0.6681\n",
            "Epoch 8/30\n",
            "719/719 - 7s - loss: 0.6052 - accuracy: 0.6809 - val_loss: 0.6091 - val_accuracy: 0.6730\n",
            "Epoch 9/30\n",
            "719/719 - 7s - loss: 0.6014 - accuracy: 0.6835 - val_loss: 0.6053 - val_accuracy: 0.6775\n",
            "Epoch 10/30\n",
            "719/719 - 7s - loss: 0.5983 - accuracy: 0.6859 - val_loss: 0.6022 - val_accuracy: 0.6819\n",
            "Epoch 11/30\n",
            "719/719 - 7s - loss: 0.5953 - accuracy: 0.6877 - val_loss: 0.5992 - val_accuracy: 0.6851\n",
            "Epoch 12/30\n",
            "719/719 - 7s - loss: 0.5928 - accuracy: 0.6897 - val_loss: 0.5966 - val_accuracy: 0.6891\n",
            "Epoch 13/30\n",
            "719/719 - 7s - loss: 0.5902 - accuracy: 0.6921 - val_loss: 0.5940 - val_accuracy: 0.6908\n",
            "Epoch 14/30\n",
            "719/719 - 7s - loss: 0.5878 - accuracy: 0.6950 - val_loss: 0.5920 - val_accuracy: 0.6934\n",
            "Epoch 15/30\n",
            "719/719 - 7s - loss: 0.5853 - accuracy: 0.6973 - val_loss: 0.5895 - val_accuracy: 0.6959\n",
            "Epoch 16/30\n",
            "719/719 - 7s - loss: 0.5831 - accuracy: 0.6988 - val_loss: 0.5871 - val_accuracy: 0.6972\n",
            "Epoch 17/30\n",
            "719/719 - 7s - loss: 0.5809 - accuracy: 0.7010 - val_loss: 0.5848 - val_accuracy: 0.6972\n",
            "Epoch 18/30\n",
            "719/719 - 7s - loss: 0.5786 - accuracy: 0.7011 - val_loss: 0.5826 - val_accuracy: 0.7002\n",
            "Epoch 19/30\n",
            "719/719 - 7s - loss: 0.5764 - accuracy: 0.7037 - val_loss: 0.5803 - val_accuracy: 0.7018\n",
            "Epoch 20/30\n",
            "719/719 - 7s - loss: 0.5743 - accuracy: 0.7055 - val_loss: 0.5783 - val_accuracy: 0.6983\n",
            "Epoch 21/30\n",
            "719/719 - 7s - loss: 0.5722 - accuracy: 0.7074 - val_loss: 0.5758 - val_accuracy: 0.7050\n",
            "Epoch 22/30\n",
            "719/719 - 7s - loss: 0.5700 - accuracy: 0.7100 - val_loss: 0.5737 - val_accuracy: 0.7061\n",
            "Epoch 23/30\n",
            "719/719 - 7s - loss: 0.5679 - accuracy: 0.7093 - val_loss: 0.5716 - val_accuracy: 0.7056\n",
            "Epoch 24/30\n",
            "719/719 - 7s - loss: 0.5659 - accuracy: 0.7122 - val_loss: 0.5696 - val_accuracy: 0.7061\n",
            "Epoch 25/30\n",
            "719/719 - 7s - loss: 0.5638 - accuracy: 0.7133 - val_loss: 0.5675 - val_accuracy: 0.7067\n",
            "Epoch 26/30\n",
            "719/719 - 7s - loss: 0.5618 - accuracy: 0.7157 - val_loss: 0.5654 - val_accuracy: 0.7069\n",
            "Epoch 27/30\n",
            "719/719 - 7s - loss: 0.5599 - accuracy: 0.7170 - val_loss: 0.5634 - val_accuracy: 0.7099\n",
            "Epoch 28/30\n",
            "719/719 - 7s - loss: 0.5581 - accuracy: 0.7185 - val_loss: 0.5617 - val_accuracy: 0.7085\n",
            "Epoch 29/30\n",
            "719/719 - 7s - loss: 0.5561 - accuracy: 0.7196 - val_loss: 0.5594 - val_accuracy: 0.7129\n",
            "Epoch 30/30\n",
            "719/719 - 7s - loss: 0.5542 - accuracy: 0.7216 - val_loss: 0.5577 - val_accuracy: 0.7126\n"
          ],
          "name": "stdout"
        }
      ]
    },
    {
      "cell_type": "code",
      "metadata": {
        "colab": {
          "base_uri": "https://localhost:8080/",
          "height": 541
        },
        "id": "ckULzmL7N-Hz",
        "outputId": "e9762321-82cc-4672-cf1f-915ae2d8c20c"
      },
      "source": [
        "plot_graphs(history, \"accuracy\")\n",
        "plot_graphs(history, \"loss\")"
      ],
      "execution_count": null,
      "outputs": [
        {
          "output_type": "display_data",
          "data": {
            "image/png": "[encoded data removed]",
            "text/plain": [
              "<Figure size 432x288 with 1 Axes>"
            ]
          },
          "metadata": {
            "tags": [],
            "needs_background": "light"
          }
        },
        {
          "output_type": "display_data",
          "data": {
            "image/png": "[encoded data removed]",
            "text/plain": [
              "<Figure size 432x288 with 1 Axes>"
            ]
          },
          "metadata": {
            "tags": [],
            "needs_background": "light"
          }
        }
      ]
    },
    {
      "cell_type": "code",
      "metadata": {
        "id": "JviINQp-PDhS"
      },
      "source": [
        ""
      ],
      "execution_count": null,
      "outputs": []
    }
  ]
}